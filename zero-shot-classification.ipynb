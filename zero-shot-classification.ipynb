{
 "cells": [
  {
   "cell_type": "code",
   "execution_count": 1,
   "id": "a49b5076-b31a-4591-ab9e-5bcc1049a87e",
   "metadata": {
    "tags": []
   },
   "outputs": [],
   "source": [
    "import open_clip\n",
    "import torch\n",
    "from PIL import Image\n",
    "from tqdm import tqdm\n",
    "\n",
    "from pathlib import Path\n"
   ]
  },
  {
   "cell_type": "code",
   "execution_count": 2,
   "id": "25a6b3f8-8783-40ae-9872-d6b4f246055e",
   "metadata": {
    "tags": []
   },
   "outputs": [],
   "source": [
    "# open_clip.list_pretrained()"
   ]
  },
  {
   "cell_type": "code",
   "execution_count": 3,
   "id": "380cbbef-737a-4e17-8d2b-76a322522584",
   "metadata": {
    "tags": []
   },
   "outputs": [],
   "source": [
    "# ! wget -O master.zip https://github.com/alexeygrigorev/clothing-dataset-small/archive/master.zip && unzip master.zip && rm master.zip && mv clothing-dataset-small-master data > /dev/null"
   ]
  },
  {
   "cell_type": "code",
   "execution_count": 4,
   "id": "56ee0682-05e8-4454-bfdd-1cfad0b90050",
   "metadata": {
    "tags": []
   },
   "outputs": [],
   "source": [
    "model_name = \"ViT-H-14\" # \"ViT-H-14\"\n",
    "weights = \"laion2b_s32b_b79k\" # \"laion2b_s32b_b79k\""
   ]
  },
  {
   "cell_type": "code",
   "execution_count": 5,
   "id": "3e78632a-5dce-49cb-8afa-5c97132f16d7",
   "metadata": {
    "tags": []
   },
   "outputs": [
    {
     "name": "stdout",
     "output_type": "stream",
     "text": [
      "['shoes', 'pants', 'dress', 'shirt', 'outwear', 't-shirt', 'skirt', 'shorts', 'hat', 'longsleeve']\n"
     ]
    }
   ],
   "source": [
    "classes = [x.stem for x in Path(\"data/train\").glob(\"*\")]\n",
    "print(classes)"
   ]
  },
  {
   "cell_type": "code",
   "execution_count": 6,
   "id": "ff4706b2-9a82-4f18-ae4f-9d7cafa4de1c",
   "metadata": {
    "tags": []
   },
   "outputs": [],
   "source": [
    "model, _, preprocess = open_clip.create_model_and_transforms(model_name, pretrained=weights)\n",
    "tokenizer = open_clip.get_tokenizer(model_name)"
   ]
  },
  {
   "cell_type": "code",
   "execution_count": 7,
   "id": "b8521663-b48f-4c12-bbb0-8f8875d75a01",
   "metadata": {},
   "outputs": [],
   "source": [
    "text = tokenizer([f\"{x} clothing item\" for x in classes])\n",
    "\n",
    "with torch.no_grad(), torch.cuda.amp.autocast():\n",
    "    \n",
    "    text_features = model.encode_text(text)\n",
    "    text_features /= text_features.norm(dim=-1, keepdim=True)\n"
   ]
  },
  {
   "cell_type": "code",
   "execution_count": 8,
   "id": "e3e95a8e-c999-4918-91d4-37524007e5e8",
   "metadata": {},
   "outputs": [],
   "source": [
    "validation_files = list(Path(\"data/validation\").glob(\"*/*\"))\n",
    "validation_labels = [x.parent.stem for x in validation_files]"
   ]
  },
  {
   "cell_type": "code",
   "execution_count": 9,
   "id": "0f9cefe8-93b3-4241-98fe-ff084eaa9d98",
   "metadata": {},
   "outputs": [
    {
     "name": "stderr",
     "output_type": "stream",
     "text": [
      "100%|████████████████████████████████████████████████████████████████████████████████████████████████████████████████████████████████████████████████████████████████████████████████████████| 341/341 [03:16<00:00,  1.74it/s]\n"
     ]
    }
   ],
   "source": [
    "validation_predictions = []\n",
    "\n",
    "with torch.no_grad(), torch.cuda.amp.autocast():\n",
    "    \n",
    "    for image in tqdm(validation_files):\n",
    "            \n",
    "        image = preprocess(\n",
    "                    Image.open(image).convert(\"RGB\")\n",
    "                ).unsqueeze(0)\n",
    "        \n",
    "        image_features = model.encode_image(image)\n",
    "        image_features /= image_features.norm(dim=-1, keepdim=True)\n",
    "\n",
    "        text_probs = (100.0 * image_features @ text_features.T).softmax(dim=-1).squeeze().tolist()\n",
    "        \n",
    "        validation_predictions.append(sorted(list(zip(text_probs, classes)), reverse=True))\n",
    "\n",
    "\n",
    "        "
   ]
  },
  {
   "cell_type": "code",
   "execution_count": null,
   "id": "f3023003-9125-4976-b5bc-39d3dfda8e50",
   "metadata": {},
   "outputs": [],
   "source": [
    "validation_top_prediction = [x[0][1] for x in validation_predictions]"
   ]
  },
  {
   "cell_type": "code",
   "execution_count": 14,
   "id": "7bbe9f3a-d456-4fb9-a146-8733a38fb095",
   "metadata": {
    "tags": []
   },
   "outputs": [
    {
     "data": {
      "text/plain": [
       "[(0.9992687106132507, 'shoes'),\n",
       " (0.0005700313486158848, 'outwear'),\n",
       " (0.000109674314444419, 'shorts'),\n",
       " (3.829190609394573e-05, 'hat'),\n",
       " (1.1568498848646414e-05, 'pants'),\n",
       " (9.062980552698718e-07, 'dress'),\n",
       " (8.301198590743297e-07, 'skirt'),\n",
       " (2.8311593069929586e-08, 'longsleeve'),\n",
       " (1.5165813493922542e-08, 'shirt'),\n",
       " (1.214558320583592e-08, 't-shirt')]"
      ]
     },
     "execution_count": 14,
     "metadata": {},
     "output_type": "execute_result"
    }
   ],
   "source": [
    "validation_predictions[0]"
   ]
  },
  {
   "cell_type": "code",
   "execution_count": 11,
   "id": "0d52b7bd-6c10-4f6d-b59b-49a4c82724fb",
   "metadata": {
    "tags": []
   },
   "outputs": [
    {
     "name": "stdout",
     "output_type": "stream",
     "text": [
      "Validation zero shot accuracy = 0.9002932551319648\n"
     ]
    }
   ],
   "source": [
    "accuracy = sum([int(y == y_hat) for y, y_hat in zip(validation_labels, validation_top_prediction)]) / len(validation_labels)\n",
    "print(f\"Validation zero shot accuracy = {accuracy}\")"
   ]
  },
  {
   "cell_type": "code",
   "execution_count": 12,
   "id": "e307a2a6-7fae-4816-866d-1f5e67ce608e",
   "metadata": {
    "tags": []
   },
   "outputs": [],
   "source": [
    "# 84% + label_update -> 90% + larger_model -> \n",
    "# Supervised xception validation accuracy -> https://github.com/alexeygrigorev/mlbookcamp-code/blob/master/chapter-07-neural-nets/07-neural-nets-test.ipynb "
   ]
  }
 ],
 "metadata": {
  "kernelspec": {
   "display_name": "Python 3 (ipykernel)",
   "language": "python",
   "name": "python3"
  },
  "language_info": {
   "codemirror_mode": {
    "name": "ipython",
    "version": 3
   },
   "file_extension": ".py",
   "mimetype": "text/x-python",
   "name": "python",
   "nbconvert_exporter": "python",
   "pygments_lexer": "ipython3",
   "version": "3.8.16"
  }
 },
 "nbformat": 4,
 "nbformat_minor": 5
}
